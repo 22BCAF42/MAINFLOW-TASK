{
 "cells": [
  {
   "cell_type": "code",
   "execution_count": null,
   "id": "24dd296f-1e27-4f6e-88c0-0d58f61f480b",
   "metadata": {},
   "outputs": [],
   "source": [
    "from bs4 import BeautifulSoup\n",
    "import requests"
   ]
  },
  {
   "cell_type": "code",
   "execution_count": null,
   "id": "fcb5825c-d124-4a1c-8de6-d0eaff410d87",
   "metadata": {},
   "outputs": [],
   "source": [
    "url='https://en.wikipedia.org/wiki/List_of_largest_companies_by_revenue'\n",
    "page= requests.get(url)\n",
    "soup= BeautifulSoup(page.text,'html')"
   ]
  },
  {
   "cell_type": "code",
   "execution_count": null,
   "id": "6f799eee-3e98-4bf1-bb24-092dcde17a31",
   "metadata": {},
   "outputs": [],
   "source": [
    "print(soup)"
   ]
  },
  {
   "cell_type": "code",
   "execution_count": null,
   "id": "16d0445e-fa92-4c51-8c27-2cbdbc138183",
   "metadata": {},
   "outputs": [],
   "source": [
    "soup.find_all('table')"
   ]
  },
  {
   "cell_type": "markdown",
   "id": "f28a84a9-471d-4fc7-b1d6-ab36947141c4",
   "metadata": {
    "jupyter": {
     "source_hidden": true
    }
   },
   "source": [
    "soup.find('table',class_=\"wikitable sortable sticky-header-multi sort-under\")"
   ]
  },
  {
   "cell_type": "code",
   "execution_count": null,
   "id": "452fabac-9925-48ea-a26c-46ce0d79e9d1",
   "metadata": {},
   "outputs": [],
   "source": [
    "table=soup.find_all('table')"
   ]
  },
  {
   "cell_type": "code",
   "execution_count": null,
   "id": "3a29d59f-aca7-4f48-83ec-048f32039d37",
   "metadata": {},
   "outputs": [],
   "source": [
    "print(table)"
   ]
  },
  {
   "cell_type": "code",
   "execution_count": null,
   "id": "8ba2c253-e6b5-423b-82ea-65b2fa95eee7",
   "metadata": {},
   "outputs": [],
   "source": [
    "soup.find_all('th')"
   ]
  },
  {
   "cell_type": "code",
   "execution_count": null,
   "id": "19b5e810-75fc-4e0e-9609-657be7fbd769",
   "metadata": {},
   "outputs": [],
   "source": [
    "world_titles= soup.find_all('th')"
   ]
  },
  {
   "cell_type": "code",
   "execution_count": null,
   "id": "d100eca2-3de6-4905-9d66-aa22283b1490",
   "metadata": {},
   "outputs": [],
   "source": [
    "world_titles"
   ]
  },
  {
   "cell_type": "code",
   "execution_count": null,
   "id": "298a9054-8fcc-4b69-9ac4-fc57052b5cc8",
   "metadata": {},
   "outputs": [],
   "source": [
    "world_table_titles=[titles.text.strip()for titles in world_titles]\n",
    "print(world_table_titles)"
   ]
  },
  {
   "cell_type": "code",
   "execution_count": null,
   "id": "0e82055d-ace7-41bf-8ff3-da5416676c38",
   "metadata": {},
   "outputs": [],
   "source": [
    "import pandas as pd\n",
    "df= pd.DataFrame(columns=world_table_titles)\n",
    "df"
   ]
  },
  {
   "cell_type": "code",
   "execution_count": null,
   "id": "1a58a8b9-a495-4a93-a41f-30698200ae31",
   "metadata": {},
   "outputs": [],
   "source": [
    "column_data= soup.find_all('tr')"
   ]
  },
  {
   "cell_type": "code",
   "execution_count": null,
   "id": "015614bb-3101-4372-9669-dc3c54e3abb4",
   "metadata": {},
   "outputs": [],
   "source": [
    "for row in column_data[2:]:\n",
    "     row_data= row.find_all('td')\n",
    "     individual_row_data=[data.text.strip() for data in row_data]\n",
    "     print(individual_row_data)"
   ]
  },
  {
   "cell_type": "code",
   "execution_count": null,
   "id": "c08822ce-3832-49d4-8291-dce0e7496fb9",
   "metadata": {},
   "outputs": [],
   "source": [
    "df= pd.DataFrame(world_table_titles)\n",
    "df"
   ]
  },
  {
   "cell_type": "markdown",
   "id": "74f46b4f-3203-4409-b9a8-c2940750d81d",
   "metadata": {},
   "source": []
  }
 ],
 "metadata": {
  "kernelspec": {
   "display_name": "Python 3 (ipykernel)",
   "language": "python",
   "name": "python3"
  },
  "language_info": {
   "codemirror_mode": {
    "name": "ipython",
    "version": 3
   },
   "file_extension": ".py",
   "mimetype": "text/x-python",
   "name": "python",
   "nbconvert_exporter": "python",
   "pygments_lexer": "ipython3",
   "version": "3.10.5"
  }
 },
 "nbformat": 4,
 "nbformat_minor": 5
}
