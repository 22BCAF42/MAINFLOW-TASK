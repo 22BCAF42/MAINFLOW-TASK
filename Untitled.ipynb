{
 "cells": [
  {
   "cell_type": "code",
   "execution_count": 1,
   "id": "2f55568d-7594-4de5-8d26-1b15bcb2556f",
   "metadata": {},
   "outputs": [
    {
     "name": "stdout",
     "output_type": "stream",
     "text": [
      "updated list: [10, 2, 'hi', 4, 6]\n"
     ]
    }
   ],
   "source": [
    "my_list=[1,2,3,4]\n",
    "my_list.append(6)\n",
    "my_list.remove(3)\n",
    "my_list[0]=10\n",
    "my_list.insert(2,\"hi\")\n",
    "print(\"updated list:\",my_list)"
   ]
  },
  {
   "cell_type": "code",
   "execution_count": 3,
   "id": "005c48b4-64bd-4c17-8c1e-9e01982bf91f",
   "metadata": {},
   "outputs": [
    {
     "name": "stdout",
     "output_type": "stream",
     "text": [
      "updated dictionary: {'name': 'Joshua', 'city': 'Bangalore'}\n"
     ]
    }
   ],
   "source": [
    "my_dict = {'name': 'Joshua', 'age': 30, 'city': 'New York'}\n",
    "del my_dict['age']\n",
    "my_dict['city'] = 'Bangalore'\n",
    "print(\"updated dictionary:\", my_dict)\n"
   ]
  },
  {
   "cell_type": "code",
   "execution_count": 4,
   "id": "d541a2a7-c555-49b0-b951-c35a8cbf16b3",
   "metadata": {},
   "outputs": [
    {
     "name": "stdout",
     "output_type": "stream",
     "text": [
      "(1, 2, 5)\n"
     ]
    }
   ],
   "source": [
    "original_tuple=(1,2,3)\n",
    "new_element=4\n",
    "updated_tuple=original_tuple+(new_element,)\n",
    "updated_tuple=original_tuple[:1]+original_tuple[2:]\n",
    "modified_element=5\n",
    "updated_tuple=original_tuple[:2]+(modified_element,)+original_tuple[3:]\n",
    "print(updated_tuple)\n"
   ]
  },
  {
   "cell_type": "code",
   "execution_count": null,
   "id": "b4fcba1a-261d-4ddb-9a8d-7388cea8accf",
   "metadata": {},
   "outputs": [],
   "source": []
  }
 ],
 "metadata": {
  "kernelspec": {
   "display_name": "Python 3 (ipykernel)",
   "language": "python",
   "name": "python3"
  },
  "language_info": {
   "codemirror_mode": {
    "name": "ipython",
    "version": 3
   },
   "file_extension": ".py",
   "mimetype": "text/x-python",
   "name": "python",
   "nbconvert_exporter": "python",
   "pygments_lexer": "ipython3",
   "version": "3.10.5"
  }
 },
 "nbformat": 4,
 "nbformat_minor": 5
}
